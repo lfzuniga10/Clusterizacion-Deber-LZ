{
 "cells": [
  {
   "cell_type": "code",
   "execution_count": 11,
   "id": "c94d9cdf-8d71-442d-acba-cc09b8e44b68",
   "metadata": {},
   "outputs": [],
   "source": [
    "import pandas as pd\n",
    "from sklearn.cluster import KMeans\n",
    "import matplotlib.pyplot as plt"
   ]
  },
  {
   "cell_type": "code",
   "execution_count": 12,
   "id": "ccc0d3e1-6ca5-4947-9d08-47442bceaa19",
   "metadata": {},
   "outputs": [
    {
     "name": "stderr",
     "output_type": "stream",
     "text": [
      "C:\\Users\\luisf\\AppData\\Local\\Temp\\ipykernel_15392\\1580032600.py:1: FutureWarning: The 'delim_whitespace' keyword in pd.read_csv is deprecated and will be removed in a future version. Use ``sep='\\s+'`` instead\n",
      "  data = pd.read_csv('C:/Users/luisf/OneDrive/Escritorio/BOOTCAMP ESPOL/Marketing/data_ecu.txt', delim_whitespace=True)\n"
     ]
    }
   ],
   "source": [
    "data = pd.read_csv('C:/Users/luisf/OneDrive/Escritorio/BOOTCAMP ESPOL/Marketing/data_ecu.txt', delim_whitespace=True)\n"
   ]
  },
  {
   "cell_type": "markdown",
   "id": "e40f834f-a8d9-402a-8672-18d712c692ef",
   "metadata": {},
   "source": [
    "**LIMPIEZA DE DATA**"
   ]
  },
  {
   "cell_type": "code",
   "execution_count": 22,
   "id": "8500f971-2ea5-4d75-91b2-b025bdf1e2a5",
   "metadata": {},
   "outputs": [
    {
     "data": {
      "text/html": [
       "<div>\n",
       "<style scoped>\n",
       "    .dataframe tbody tr th:only-of-type {\n",
       "        vertical-align: middle;\n",
       "    }\n",
       "\n",
       "    .dataframe tbody tr th {\n",
       "        vertical-align: top;\n",
       "    }\n",
       "\n",
       "    .dataframe thead th {\n",
       "        text-align: right;\n",
       "    }\n",
       "</style>\n",
       "<table border=\"1\" class=\"dataframe\">\n",
       "  <thead>\n",
       "    <tr style=\"text-align: right;\">\n",
       "      <th></th>\n",
       "      <th>Longitude</th>\n",
       "      <th>Latitude</th>\n",
       "    </tr>\n",
       "  </thead>\n",
       "  <tbody>\n",
       "    <tr>\n",
       "      <th>count</th>\n",
       "      <td>305</td>\n",
       "      <td>290</td>\n",
       "    </tr>\n",
       "    <tr>\n",
       "      <th>unique</th>\n",
       "      <td>298</td>\n",
       "      <td>288</td>\n",
       "    </tr>\n",
       "    <tr>\n",
       "      <th>top</th>\n",
       "      <td>error</td>\n",
       "      <td>999,0</td>\n",
       "    </tr>\n",
       "    <tr>\n",
       "      <th>freq</th>\n",
       "      <td>3</td>\n",
       "      <td>3</td>\n",
       "    </tr>\n",
       "  </tbody>\n",
       "</table>\n",
       "</div>"
      ],
      "text/plain": [
       "       Longitude Latitude\n",
       "count        305      290\n",
       "unique       298      288\n",
       "top        error    999,0\n",
       "freq           3        3"
      ]
     },
     "execution_count": 22,
     "metadata": {},
     "output_type": "execute_result"
    }
   ],
   "source": [
    "data.describe()"
   ]
  },
  {
   "cell_type": "code",
   "execution_count": 21,
   "id": "add22511-2c6e-4d99-a186-c9ec3e1907ca",
   "metadata": {},
   "outputs": [
    {
     "data": {
      "text/plain": [
       "Longitude     0\n",
       "Latitude     15\n",
       "dtype: int64"
      ]
     },
     "execution_count": 21,
     "metadata": {},
     "output_type": "execute_result"
    }
   ],
   "source": [
    "data.isnull().sum()\n"
   ]
  },
  {
   "cell_type": "code",
   "execution_count": 24,
   "id": "f55c0d99-a342-4103-a956-0d5a17a62a81",
   "metadata": {},
   "outputs": [
    {
     "data": {
      "text/plain": [
       "7"
      ]
     },
     "execution_count": 24,
     "metadata": {},
     "output_type": "execute_result"
    }
   ],
   "source": [
    "data.duplicated().sum()"
   ]
  },
  {
   "cell_type": "code",
   "execution_count": 20,
   "id": "ccdb7944-2da6-4251-94de-691fc40e4807",
   "metadata": {},
   "outputs": [
    {
     "data": {
      "text/plain": [
       "Longitude           Latitude           \n",
       "error               999,0                  3\n",
       "-78.39704089477075  -0,0578544460543432    1\n",
       "-79.96131215663695  -2,1566645077691304    1\n",
       "-79.95605510707483  -2,123089855495745     1\n",
       "-79.95491044967635  -2,226476845818889     1\n",
       "                                          ..\n",
       "-78.59815593129615  -0,1680620461632256    1\n",
       "-78.59610323995663  -0,048269125163402     1\n",
       "-78.59601916322502  0,0001952379649915     1\n",
       "-78.59587541748397  -0,0659677990582848    1\n",
       "-79.89957184928626  -2,201976100926877     1\n",
       "Name: count, Length: 288, dtype: int64"
      ]
     },
     "execution_count": 20,
     "metadata": {},
     "output_type": "execute_result"
    }
   ],
   "source": [
    "data.value_counts()"
   ]
  },
  {
   "cell_type": "code",
   "execution_count": 28,
   "id": "33c346a9-c2a8-47ae-bd98-d9eab53752bc",
   "metadata": {},
   "outputs": [],
   "source": [
    "data_clean = data.dropna()"
   ]
  },
  {
   "cell_type": "code",
   "execution_count": 29,
   "id": "d743d4f4-d5e5-415d-848b-85c606ab2db7",
   "metadata": {},
   "outputs": [],
   "source": [
    "data_clean= data_clean.drop_duplicates()"
   ]
  },
  {
   "cell_type": "code",
   "execution_count": 30,
   "id": "2879459e-e061-4a20-93d0-f58f348a3112",
   "metadata": {},
   "outputs": [
    {
     "data": {
      "text/plain": [
       "Longitude    0\n",
       "Latitude     0\n",
       "dtype: int64"
      ]
     },
     "execution_count": 30,
     "metadata": {},
     "output_type": "execute_result"
    }
   ],
   "source": [
    "data_clean.isnull().sum()"
   ]
  },
  {
   "cell_type": "code",
   "execution_count": 32,
   "id": "64dcec57-83d8-44d8-ba79-f9c033e33a6c",
   "metadata": {},
   "outputs": [
    {
     "data": {
      "text/plain": [
       "0"
      ]
     },
     "execution_count": 32,
     "metadata": {},
     "output_type": "execute_result"
    }
   ],
   "source": [
    "data_clean.duplicated().sum()"
   ]
  },
  {
   "cell_type": "code",
   "execution_count": 33,
   "id": "5dd4af98-bdbc-4360-8bde-3e4a69512444",
   "metadata": {},
   "outputs": [
    {
     "data": {
      "text/html": [
       "<div>\n",
       "<style scoped>\n",
       "    .dataframe tbody tr th:only-of-type {\n",
       "        vertical-align: middle;\n",
       "    }\n",
       "\n",
       "    .dataframe tbody tr th {\n",
       "        vertical-align: top;\n",
       "    }\n",
       "\n",
       "    .dataframe thead th {\n",
       "        text-align: right;\n",
       "    }\n",
       "</style>\n",
       "<table border=\"1\" class=\"dataframe\">\n",
       "  <thead>\n",
       "    <tr style=\"text-align: right;\">\n",
       "      <th></th>\n",
       "      <th>Longitude</th>\n",
       "      <th>Latitude</th>\n",
       "    </tr>\n",
       "  </thead>\n",
       "  <tbody>\n",
       "    <tr>\n",
       "      <th>count</th>\n",
       "      <td>288</td>\n",
       "      <td>288</td>\n",
       "    </tr>\n",
       "    <tr>\n",
       "      <th>unique</th>\n",
       "      <td>288</td>\n",
       "      <td>288</td>\n",
       "    </tr>\n",
       "    <tr>\n",
       "      <th>top</th>\n",
       "      <td>-80.43876447751417</td>\n",
       "      <td>-0,9519244059855368</td>\n",
       "    </tr>\n",
       "    <tr>\n",
       "      <th>freq</th>\n",
       "      <td>1</td>\n",
       "      <td>1</td>\n",
       "    </tr>\n",
       "  </tbody>\n",
       "</table>\n",
       "</div>"
      ],
      "text/plain": [
       "                 Longitude             Latitude\n",
       "count                  288                  288\n",
       "unique                 288                  288\n",
       "top     -80.43876447751417  -0,9519244059855368\n",
       "freq                     1                    1"
      ]
     },
     "execution_count": 33,
     "metadata": {},
     "output_type": "execute_result"
    }
   ],
   "source": [
    "data_clean.describe()"
   ]
  },
  {
   "cell_type": "code",
   "execution_count": 34,
   "id": "75863a68-4dc5-4466-bcf8-8357b3e71109",
   "metadata": {},
   "outputs": [
    {
     "data": {
      "text/plain": [
       "Longitude           Latitude           \n",
       "-78.37750375216743  -0,0766595688983383    1\n",
       "-78.39704089477075  -0,0578544460543432    1\n",
       "-79.96131215663695  -2,1566645077691304    1\n",
       "-79.95605510707483  -2,123089855495745     1\n",
       "-79.95491044967635  -2,226476845818889     1\n",
       "                                          ..\n",
       "-78.59815593129615  -0,1680620461632256    1\n",
       "-78.59610323995663  -0,048269125163402     1\n",
       "-78.59601916322502  0,0001952379649915     1\n",
       "-78.59587541748397  -0,0659677990582848    1\n",
       "error               999,0                  1\n",
       "Name: count, Length: 288, dtype: int64"
      ]
     },
     "execution_count": 34,
     "metadata": {},
     "output_type": "execute_result"
    }
   ],
   "source": [
    "data_clean.value_counts()"
   ]
  },
  {
   "cell_type": "code",
   "execution_count": 36,
   "id": "b22ce6c8-353e-468e-b468-5eed7d02e82c",
   "metadata": {},
   "outputs": [],
   "source": [
    "data_clean = data_clean[data_clean['Longitude'] != 'error']\n"
   ]
  },
  {
   "cell_type": "code",
   "execution_count": 39,
   "id": "27cfa5e7-bb9f-46be-9909-806427ea4212",
   "metadata": {},
   "outputs": [
    {
     "data": {
      "text/plain": [
       "Longitude           Latitude           \n",
       "-78.37750375216743  -0,0766595688983383    1\n",
       "-79.94374388270353  -2,178066005532484     1\n",
       "-79.95605510707483  -2,123089855495745     1\n",
       "-79.95491044967635  -2,226476845818889     1\n",
       "-79.95029717405482  -2,177631798374293     1\n",
       "                                          ..\n",
       "-78.59815593129615  -0,1680620461632256    1\n",
       "-78.59610323995663  -0,048269125163402     1\n",
       "-78.59601916322502  0,0001952379649915     1\n",
       "-78.59587541748397  -0,0659677990582848    1\n",
       "-80.51343212052747  -1,137741062882963     1\n",
       "Name: count, Length: 287, dtype: int64"
      ]
     },
     "execution_count": 39,
     "metadata": {},
     "output_type": "execute_result"
    }
   ],
   "source": [
    "data_clean.value_counts()"
   ]
  },
  {
   "cell_type": "code",
   "execution_count": 46,
   "id": "71aeae45-2218-4072-9c8b-ce6f02a3c3a8",
   "metadata": {},
   "outputs": [],
   "source": [
    "data_clean.columns = ['Longitude', 'Latitude']"
   ]
  },
  {
   "cell_type": "code",
   "execution_count": 47,
   "id": "e9add931-d705-4b76-8f2e-18a160d0a0ad",
   "metadata": {},
   "outputs": [],
   "source": [
    "data_clean['Longitude'] = data_clean['Longitude'].astype(float)\n",
    "data_clean['Latitude'] = data_clean['Latitude'].astype(float)\n"
   ]
  },
  {
   "cell_type": "code",
   "execution_count": 49,
   "id": "c48b9de5-a5f7-4684-a776-e16f5095707e",
   "metadata": {},
   "outputs": [
    {
     "name": "stdout",
     "output_type": "stream",
     "text": [
      "Longitude    float64\n",
      "Latitude     float64\n",
      "dtype: object\n"
     ]
    }
   ],
   "source": [
    "print(data_clean.dtypes)\n"
   ]
  },
  {
   "cell_type": "code",
   "execution_count": 50,
   "id": "53ec8fac-3225-40cf-bc32-c99efef5a833",
   "metadata": {},
   "outputs": [],
   "source": [
    "kmeans = KMeans(n_clusters=3, random_state=42)  # Elegimos 3 clusters\n",
    "data_clean['cluster'] = kmeans.fit_predict(data_clean[['Longitude', 'Latitude']])"
   ]
  },
  {
   "cell_type": "code",
   "execution_count": 52,
   "id": "b145cbc7-1dd4-447e-b4b6-095e1d2135ed",
   "metadata": {},
   "outputs": [
    {
     "data": {
      "image/png": "[encoded data removed]",
      "text/plain": [
       "<Figure size 1000x600 with 1 Axes>"
      ]
     },
     "metadata": {},
     "output_type": "display_data"
    }
   ],
   "source": [
    "plt.figure(figsize=(10, 6))\n",
    "plt.scatter(data_clean['Longitude'], data_clean['Latitude'], c=data_clean['cluster'], cmap='viridis', alpha=0.5)\n",
    "plt.scatter(kmeans.cluster_centers_[:, 0], kmeans.cluster_centers_[:, 1], c='red', marker='X', s=200)  # Centroides\n",
    "plt.title('Clusters de ubicaciones en Ecuador')\n",
    "plt.xlabel('Longitude')\n",
    "plt.ylabel('Latitude')\n",
    "plt.grid()\n",
    "plt.show()\n"
   ]
  },
  {
   "cell_type": "code",
   "execution_count": 53,
   "id": "3921b497-1a13-45db-9996-22a7206f418e",
   "metadata": {},
   "outputs": [
    {
     "name": "stdout",
     "output_type": "stream",
     "text": [
      "Archivo 'clusters.txt' generado exitosamente.\n"
     ]
    }
   ],
   "source": [
    "#En mi caso data clean tiene 287 lineas no 305 por la limpieza de datos nulos, duplicados y data NO Numerica, que se realizo\n",
    "\n",
    "if len(data_clean) == 287:\n",
    "    # Crea un DataFrame con location_id y cluster_label\n",
    "    clusters_output = pd.DataFrame({\n",
    "        'location_id': range(len(data_clean)),\n",
    "        'cluster_label': data_clean['cluster']\n",
    "    })\n",
    "\n",
    "    # Escribe el archivo de salida\n",
    "    clusters_output.to_csv('clusters.txt', sep=' ', index=False, header=False)\n",
    "\n",
    "    print(\"Archivo 'clusters.txt' generado exitosamente.\")\n",
    "else:\n",
    "    print(f\"El DataFrame no tiene 287 filas, tiene {len(data_clean)} filas.\")\n",
    "\n",
    "\n"
   ]
  },
  {
   "cell_type": "code",
   "execution_count": null,
   "id": "9105d769-057b-438a-8b2c-9b7190b03f86",
   "metadata": {},
   "outputs": [],
   "source": []
  }
 ],
 "metadata": {
  "kernelspec": {
   "display_name": "Python 3 (ipykernel)",
   "language": "python",
   "name": "python3"
  },
  "language_info": {
   "codemirror_mode": {
    "name": "ipython",
    "version": 3
   },
   "file_extension": ".py",
   "mimetype": "text/x-python",
   "name": "python",
   "nbconvert_exporter": "python",
   "pygments_lexer": "ipython3",
   "version": "3.12.3"
  }
 },
 "nbformat": 4,
 "nbformat_minor": 5
}
